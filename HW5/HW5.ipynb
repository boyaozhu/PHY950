{
 "cells": [
  {
   "cell_type": "code",
   "execution_count": 1,
   "metadata": {},
   "outputs": [
    {
     "name": "stdout",
     "output_type": "stream",
     "text": [
      "The minimum variance of alpha is  0.1961559020044544\n",
      "With the number of experiments are  2 1 2\n",
      "[[13.49724518  4.34389348]\n",
      " [ 4.34389348  2.24655647]]\n",
      "**************************************************\n",
      "The minimum variance of beta is 0.7521108859826859\n",
      "With the number of experiments are  5 1 1\n",
      "[[10.41528926  5.39416896]\n",
      " [ 5.39416896  4.12327824]]\n"
     ]
    }
   ],
   "source": [
    "#############################################\n",
    "# Problem 1\n",
    "#############################################\n",
    "# (a)\n",
    "import numpy as np\n",
    "# the possible number of experiments\n",
    "E1 = [i for i in range(11)]       #from 0-10\n",
    "E2 = [i for i in range(6)]        #from 0-5\n",
    "E3 = [i for i in range(3)]        #from 0-2\n",
    "\n",
    "# create Fisher matrix with number of experiments as inputs\n",
    "def Fisher_Likelihood(n1, n2, n3):\n",
    "    # variance for each experiment\n",
    "    var1 = ((4*1+2)*0.2)**2         \n",
    "    var2 = ((4*2+2)*0.15)**2\n",
    "    var3 = ((4*5+2)*0.1)**2\n",
    "    F = np.zeros((2,2))\n",
    "    F[0,0] = n1/var1 + 4*n2/var2 + 25*n3/var3\n",
    "    F[0,1] = n1/var1 + 2*n2/var2 + 5*n3/var3\n",
    "    F[1,0] = F[0,1]\n",
    "    F[1,1] = n1/var1 + n2/var2 + n3/var3\n",
    "    return F\n",
    "\n",
    "# Calculate variance\n",
    "def Covariance():\n",
    "    e1 = []\n",
    "    e2 = []\n",
    "    e3 = []\n",
    "    var_alph = []\n",
    "    var_beta = []\n",
    "    \n",
    "    for n1 in E1:\n",
    "        for n2 in E2:\n",
    "            for n3 in E3:\n",
    "                # create Fisher Matrix\n",
    "                F = Fisher_Likelihood(n1,n2,n3)\n",
    "                # calculate determinant\n",
    "                det = np.linalg.det(F)\n",
    "                # condition 1 determinant not 0\n",
    "                # condition 2 under budget\n",
    "                if n1+2*n2+3*n3<=10 and det != 0:\n",
    "                    # calculate covariance matrix by inversing Fisher Matrix\n",
    "                    Cov = np.linalg.inv(F)\n",
    "                    # two conditions of possible outcomes\n",
    "                    if n3>0 and n2>0 and n1>0:\n",
    "                        e1.append(n1)             # append # of first expr.\n",
    "                        e2.append(n2)             # append # of second expr.\n",
    "                        e3.append(n3)             # append # of third expr.\n",
    "                        var_alph.append(Cov[0,0]) # append variance of alpha\n",
    "                        var_beta.append(Cov[1,1]) # append variance of beta\n",
    "                    if n3 == 0:\n",
    "                        e1.append(n1)\n",
    "                        e2.append(n2)\n",
    "                        e3.append(n3)\n",
    "                        var_alph.append(Cov[0,0])\n",
    "                        var_beta.append(Cov[1,1])\n",
    "    \n",
    "    # find the minimum variance\n",
    "    # find the index of the min\n",
    "    # print min\n",
    "    # print n1 n2 and n3\n",
    "    # print corresponding Fisher matrix\n",
    "    var_a = np.min(var_alph)\n",
    "    ind_a = var_alph.index(var_a)\n",
    "    print (\"The minimum variance of alpha is \", var_a)\n",
    "    print (\"With the number of experiments are \", e1[ind_a], e2[ind_a], e3[ind_a])\n",
    "    print (Fisher_Likelihood(e1[ind_a], e2[ind_a], e3[ind_a]))\n",
    "    print (\"*\"*50)\n",
    "    var_b = np.min(var_beta)\n",
    "    ind_b = var_beta.index(var_b)\n",
    "    print (\"The minimum variance of beta is\", var_b)\n",
    "    print (\"With the number of experiments are \", e1[ind_b], e2[ind_b], e3[ind_b])\n",
    "    print (Fisher_Likelihood(e1[ind_b], e2[ind_b], e3[ind_b]))\n",
    "Covariance()"
   ]
  },
  {
   "cell_type": "code",
   "execution_count": 5,
   "metadata": {},
   "outputs": [
    {
     "name": "stdout",
     "output_type": "stream",
     "text": [
      "The minimum variance of alpha is  0.05705673466547477\n",
      "With the number of experiments are  2 1 2\n",
      "[[19.74724518  4.34389348]\n",
      " [ 4.34389348  8.49655647]]\n",
      "**************************************************\n",
      "The minimum variance of beta is 0.10482758620689656\n",
      "With the number of experiments are  10 0 0\n",
      "[[13.19444444  6.94444444]\n",
      " [ 6.94444444 13.19444444]]\n"
     ]
    }
   ],
   "source": [
    "# (b)\n",
    "# calculate standard deviation of alpha and beta\n",
    "sigma1 = 0.1 * 4\n",
    "sigma2 = 0.2 * 2\n",
    "\n",
    "# create prior matrix \n",
    "def F_prior(sigma1, sigma2):\n",
    "    F_p = np.zeros((2,2))\n",
    "    F_p[0,0] = sigma1**2\n",
    "    F_p[1,1] = sigma2**2\n",
    "    F_p = np.linalg.inv(F_p)\n",
    "    return F_p\n",
    "\n",
    "F_p = F_prior(sigma1, sigma2)\n",
    "\n",
    "# same as Covariance(), difference as indicated below\n",
    "def new_Covariance():\n",
    "    e1 = []\n",
    "    e2 = []\n",
    "    e3 = []\n",
    "    var_alph = []\n",
    "    var_beta = []\n",
    "    \n",
    "    for n1 in E1:\n",
    "        for n2 in E2:\n",
    "            for n3 in E3:\n",
    "                F = Fisher_Likelihood(n1,n2,n3)\n",
    "                \n",
    "                # new Fisher matrix\n",
    "                F = F + F_p\n",
    "                det = np.linalg.det(F)\n",
    "                if n1+2*n2+3*n3<=10 and det != 0:\n",
    "                    Cov = np.linalg.inv(F)\n",
    "                    if n3>0 and n2>0 and n1>0:\n",
    "                        e1.append(n1)\n",
    "                        e2.append(n2)\n",
    "                        e3.append(n3)\n",
    "                        var_alph.append(Cov[0,0])\n",
    "                        var_beta.append(Cov[1,1])\n",
    "                    if n3 == 0:\n",
    "                        e1.append(n1)\n",
    "                        e2.append(n2)\n",
    "                        e3.append(n3)\n",
    "                        var_alph.append(Cov[0,0])\n",
    "                        var_beta.append(Cov[1,1])\n",
    "    \n",
    "    var_a = np.min(var_alph)\n",
    "    ind_a = var_alph.index(var_a)\n",
    "    print (\"The minimum variance of alpha is \", var_a)\n",
    "    print (\"With the number of experiments are \", e1[ind_a], e2[ind_a], e3[ind_a])\n",
    "    # modified\n",
    "    print (Fisher_Likelihood(e1[ind_a], e2[ind_a], e3[ind_a])+F_p)\n",
    "    print (\"*\"*50)\n",
    "    var_b = np.min(var_beta)\n",
    "    ind_b = var_beta.index(var_b)\n",
    "    print (\"The minimum variance of beta is\", var_b)\n",
    "    print (\"With the number of experiments are \", e1[ind_b], e2[ind_b], e3[ind_b])\n",
    "    # modified\n",
    "    print (Fisher_Likelihood(e1[ind_b], e2[ind_b], e3[ind_b])+F_p)\n",
    "    \n",
    "new_Covariance()\n"
   ]
  },
  {
   "cell_type": "code",
   "execution_count": 9,
   "metadata": {},
   "outputs": [
    {
     "name": "stdout",
     "output_type": "stream",
     "text": [
      "[0.018287394340316065, 0.05705673466547477, 0.11503785739037974, 0.19272671331214508]\n",
      "[0.034666666666666665, 0.10482758620689656, 0.17899441340782127, 0.25212121212121213]\n"
     ]
    },
    {
     "data": {
      "image/png": "[encoded data removed]",
      "text/plain": [
       "<Figure size 432x288 with 1 Axes>"
      ]
     },
     "metadata": {},
     "output_type": "display_data"
    }
   ],
   "source": [
    "# (c)\n",
    "# original values for alpha and beta\n",
    "alp = 4\n",
    "bet = 2\n",
    "\n",
    "# define function to calculate variance for different values of alpha and beta \n",
    "def Fisher_Likelihood(alpha, beta, n1, n2, n3, a):\n",
    "    # calculate variance \n",
    "    var1 = ((alpha*1+beta)*0.20)**2\n",
    "    var2 = ((alpha*2+beta)*0.15)**2\n",
    "    var3 = ((alpha*5+beta)*0.10)**2\n",
    "    sig1 = 0.1*alpha\n",
    "    sig2 = 0.2*beta\n",
    "    var = []\n",
    "    \n",
    "    # calculate Fisher matrix for different values of alpha and beta\n",
    "    # calculate F_prior matrix for different values of alpha and beta\n",
    "    # inverse of Fisher matrix and get \n",
    "    for i in range(len(var1)):\n",
    "        F = np.zeros((2,2))\n",
    "        F[0,0] = n1/var1[i] + 4*n2/var2[i] + 25*n3/var3[i]\n",
    "        F[0,1] = n1/var1[i] + 2*n2/var2[i] + 5*n3/var3[i]\n",
    "        F[1,0] = F[0,1]\n",
    "        F[1,1] = n1/var1[i] + n2/var2[i] + n3/var3[i]\n",
    "        F_p = F_prior(sig1[i], sig2[i])\n",
    "        F = F + F_p\n",
    "        va = np.linalg.inv(F)\n",
    "        var.append(va[a,a])\n",
    "    return var\n",
    "\n",
    "\n",
    "alpha = np.linspace(alp/2,alp*2,4)  # the possible values for alpha\n",
    "beta = np.ones(4)*2\n",
    "var1 = Fisher_Likelihood(alpha, beta, 2, 1, 2, 0)\n",
    "print (var1)\n",
    "\n",
    "beta  = np.linspace(bet/2,bet*2,4)   # the possible values for beta \n",
    "alpha = np.ones(4)*4\n",
    "var2 = Fisher_Likelihood(alpha, beta, 10, 0 ,0, 1)\n",
    "print (var2)\n",
    "\n",
    "\n",
    "import matplotlib.pyplot as plt\n",
    "plt.plot(var1,\"r\", label=\"variance for alpha\")\n",
    "plt.plot(var2,\"b\", label=\"variance for beta\")\n",
    "plt.legend()\n",
    "plt.show()"
   ]
  },
  {
   "cell_type": "code",
   "execution_count": 10,
   "metadata": {},
   "outputs": [
    {
     "name": "stdout",
     "output_type": "stream",
     "text": [
      "maximum value of Log-likelihood function is  22020.52400507233\n",
      "v0 =  1845.4545454545455\n",
      "k =  1.1980396079215843e-23\n"
     ]
    },
    {
     "data": {
      "image/png": "[encoded data removed]",
      "text/plain": [
       "<Figure size 432x288 with 1 Axes>"
      ]
     },
     "metadata": {},
     "output_type": "display_data"
    }
   ],
   "source": [
    "#############################################\n",
    "# Problem 2\n",
    "#############################################\n",
    "# (a)\n",
    "pi = np.pi\n",
    "r  = 0.52e-6\n",
    "rho= 0.063*1e-3/(1e-2)**3\n",
    "T  = 293\n",
    "g  = 9.80\n",
    "n  = np.array([1880, 940, 530, 305])\n",
    "z  = np.array([0,6,12,18])\n",
    "z  = z*1e-6\n",
    "\n",
    "coeff = 4*pi*r**3*rho*g/(3*T)\n",
    "\n",
    "# define function for v(z)\n",
    "def V_z(v0, coeff, k, z):\n",
    "    v = v0 * np.exp(-coeff*z/k)   \n",
    "    return v\n",
    "\n",
    "# define log likelihood function\n",
    "def log_lik(v0, coeff, k, z, n):\n",
    "    logL = 0\n",
    "    for i in range(len(n)):\n",
    "        logL += n[i]*np.log(V_z(v0, coeff, k, z[i]))-V_z(v0, coeff, k, z[i])\n",
    "    return logL\n",
    "\n",
    "# tried several ranges and found the max will be located in this range\n",
    "V0 = np.linspace(1840,1860,100)\n",
    "K  = np.linspace(1e-23, 1e-22, 5000)\n",
    "mat = []\n",
    "v = []\n",
    "ka = []\n",
    "for v0 in V0:\n",
    "    for k in K:\n",
    "        v.append(v0)\n",
    "        ka.append(k)\n",
    "        # calculate log likelihood function with different v0 and k\n",
    "        # and append to mat\n",
    "        mat.append(log_lik(v0, coeff, k, z, n))\n",
    "\n",
    "# find max value in mat\n",
    "a = np.max(mat)\n",
    "print (\"maximum value of Log-likelihood function is \", a)\n",
    "# find index \n",
    "ind = mat.index(a)\n",
    "# find corresponding v0 and k\n",
    "print (\"v0 = \", v[ind])\n",
    "print (\"k = \", ka[ind])\n",
    "\n",
    "# calculate V(z) with corresponding v0 and k using z[i]\n",
    "# plot observation and prediction\n",
    "\n",
    "v = V_z(v[ind], coeff, ka[ind], z)\n",
    "\n",
    "plt.plot(z,n,label=\"observed data\")\n",
    "plt.plot(z,v,label=\"theoretical\")\n",
    "plt.legend()\n",
    "plt.show()\n"
   ]
  },
  {
   "cell_type": "code",
   "execution_count": 11,
   "metadata": {},
   "outputs": [
    {
     "name": "stdout",
     "output_type": "stream",
     "text": [
      "6.939670395725497e+23\n"
     ]
    }
   ],
   "source": [
    "# (b)\n",
    "# I first converted value of R to the value that can be directly calculated in the equation\n",
    "R = 8.314\n",
    "k = ka[ind]\n",
    "N_A = R/k\n",
    "print (N_A)"
   ]
  },
  {
   "cell_type": "code",
   "execution_count": 12,
   "metadata": {},
   "outputs": [
    {
     "name": "stdout",
     "output_type": "stream",
     "text": [
      "minimum of chi-square is  4.570414941850355\n",
      "v0 =  1846.7336683417086\n",
      "k =  1.1981981981981981e-23\n"
     ]
    },
    {
     "data": {
      "image/png": "[encoded data removed]",
      "text/plain": [
       "<Figure size 432x288 with 1 Axes>"
      ]
     },
     "metadata": {},
     "output_type": "display_data"
    },
    {
     "name": "stderr",
     "output_type": "stream",
     "text": [
      "/anaconda3/lib/python3.6/site-packages/matplotlib/axes/_axes.py:6462: UserWarning: The 'normed' kwarg is deprecated, and has been replaced by the 'density' kwarg.\n",
      "  warnings.warn(\"The 'normed' kwarg is deprecated, and has been \"\n",
      "No handles with labels found to put in legend.\n"
     ]
    },
    {
     "data": {
      "image/png": "[encoded data removed]",
      "text/plain": [
       "<Figure size 432x288 with 1 Axes>"
      ]
     },
     "metadata": {},
     "output_type": "display_data"
    },
    {
     "name": "stdout",
     "output_type": "stream",
     "text": [
      "p-value =  0.7644999999999953\n"
     ]
    }
   ],
   "source": [
    "# (c)\n",
    "# define chi-square function\n",
    "def chi_square(v0, coeff, k, z, n):\n",
    "    chi2 = 0\n",
    "    for i in range(len(z)):\n",
    "        chi2 += (n[i]-V_z(v0, coeff, k, z[i]))**2/V_z(v0, coeff, k, z[i])\n",
    "    return chi2\n",
    "\n",
    "# again define the range of v0 and k\n",
    "V0 = np.linspace(1800,1900,200)\n",
    "K  = np.linspace(1e-23, 1e-22, 1000)\n",
    "mat = []\n",
    "v = []\n",
    "ka = []\n",
    "for v0 in V0:\n",
    "    for k in K:\n",
    "        v.append(v0)\n",
    "        ka.append(k)\n",
    "        mat.append(chi_square(v0, coeff, k, z, n))\n",
    "\n",
    "# find min chi-square\n",
    "chi_min = np.min(mat)\n",
    "print (\"minimum of chi-square is \", chi_min)\n",
    "# find index\n",
    "ind = mat.index(chi_min)\n",
    "print (\"v0 = \", v[ind])\n",
    "print (\"k = \", ka[ind])\n",
    "\n",
    "# calculate v(z) using v0 and k found from chi-square \n",
    "# and plot the same thing as (b)\n",
    "v = V_z(v[ind], coeff, ka[ind], z)\n",
    "\n",
    "plt.plot(z,n,label=\"observed data\")\n",
    "plt.plot(z,v,label=\"theoretical\")\n",
    "plt.legend()\n",
    "plt.show()\n",
    "\n",
    "# the last task is like what we did in HW4\n",
    "# simulate poisson distribution with mean v(z) by MC 10000 times\n",
    "# calculate chi-square and attaches to chi2\n",
    "# integrate(sum) chi-square distribution\n",
    "from scipy.stats import chisquare\n",
    "mc = np.zeros(len(z))\n",
    "chi2 = []\n",
    "for i in range(10000):\n",
    "    for j in range(len(z)):\n",
    "        mc[j] = np.random.poisson(v[j], 1)\n",
    "    chi = chisquare(mc, f_exp = n)[0]\n",
    "    chi2.append(chi)\n",
    "\n",
    "count, bins, ignored = plt.hist(chi2, 1000, normed=True)\n",
    "plt.legend()\n",
    "plt.xlabel(\"chi2\")\n",
    "plt.ylabel(\"Count\")\n",
    "plt.show()\n",
    "\n",
    "lis = []\n",
    "\n",
    "for i in range(1000):\n",
    "    if bins[i] >= chi_min:\n",
    "        lis.append(count[i])\n",
    "\n",
    "print (\"p-value = \",np.sum(lis)*(bins[50]-bins[49]))"
   ]
  },
  {
   "cell_type": "code",
   "execution_count": null,
   "metadata": {},
   "outputs": [],
   "source": []
  }
 ],
 "metadata": {
  "kernelspec": {
   "display_name": "Python 3",
   "language": "python",
   "name": "python3"
  },
  "language_info": {
   "codemirror_mode": {
    "name": "ipython",
    "version": 3
   },
   "file_extension": ".py",
   "mimetype": "text/x-python",
   "name": "python",
   "nbconvert_exporter": "python",
   "pygments_lexer": "ipython3",
   "version": "3.6.5"
  }
 },
 "nbformat": 4,
 "nbformat_minor": 2
}
